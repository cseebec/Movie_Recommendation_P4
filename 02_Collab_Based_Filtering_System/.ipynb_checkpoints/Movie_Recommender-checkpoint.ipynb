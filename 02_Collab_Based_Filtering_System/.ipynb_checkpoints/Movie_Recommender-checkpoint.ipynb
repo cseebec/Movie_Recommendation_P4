{
 "cells": [
  {
   "cell_type": "code",
   "execution_count": 1,
   "id": "fc979b5b-efdb-4a2c-acaa-5378fe8f814d",
   "metadata": {},
   "outputs": [],
   "source": [
    "# Import Dependencies\n",
    "import os\n",
    "import time\n",
    "\n",
    "import math\n",
    "import numpy as np\n",
    "import pandas as pd\n",
    "from sklearn.neighbors import NearestNeighbors\n",
    "\n",
    "import matplotlib.pyplot as plt"
   ]
  },
  {
   "cell_type": "markdown",
   "id": "2f1db5bd-eec3-4504-b3c5-ec9e5a63e9b0",
   "metadata": {},
   "source": [
    "### Creating movies_cleaned.csv\n",
    "This code can skipped over if movies_cleaned.csv is already in directory"
   ]
  },
  {
   "cell_type": "code",
   "execution_count": 2,
   "id": "7ee5c361-3ab4-4166-b64c-646fb8ce12fc",
   "metadata": {},
   "outputs": [
    {
     "data": {
      "text/html": [
       "<div>\n",
       "<style scoped>\n",
       "    .dataframe tbody tr th:only-of-type {\n",
       "        vertical-align: middle;\n",
       "    }\n",
       "\n",
       "    .dataframe tbody tr th {\n",
       "        vertical-align: top;\n",
       "    }\n",
       "\n",
       "    .dataframe thead th {\n",
       "        text-align: right;\n",
       "    }\n",
       "</style>\n",
       "<table border=\"1\" class=\"dataframe\">\n",
       "  <thead>\n",
       "    <tr style=\"text-align: right;\">\n",
       "      <th></th>\n",
       "      <th>movieId</th>\n",
       "      <th>title</th>\n",
       "      <th>genres</th>\n",
       "    </tr>\n",
       "  </thead>\n",
       "  <tbody>\n",
       "    <tr>\n",
       "      <th>0</th>\n",
       "      <td>1</td>\n",
       "      <td>Toy Story (1995)</td>\n",
       "      <td>Adventure|Animation|Children|Comedy|Fantasy</td>\n",
       "    </tr>\n",
       "    <tr>\n",
       "      <th>1</th>\n",
       "      <td>2</td>\n",
       "      <td>Jumanji (1995)</td>\n",
       "      <td>Adventure|Children|Fantasy</td>\n",
       "    </tr>\n",
       "    <tr>\n",
       "      <th>2</th>\n",
       "      <td>3</td>\n",
       "      <td>Grumpier Old Men (1995)</td>\n",
       "      <td>Comedy|Romance</td>\n",
       "    </tr>\n",
       "    <tr>\n",
       "      <th>3</th>\n",
       "      <td>4</td>\n",
       "      <td>Waiting to Exhale (1995)</td>\n",
       "      <td>Comedy|Drama|Romance</td>\n",
       "    </tr>\n",
       "    <tr>\n",
       "      <th>4</th>\n",
       "      <td>5</td>\n",
       "      <td>Father of the Bride Part II (1995)</td>\n",
       "      <td>Comedy</td>\n",
       "    </tr>\n",
       "  </tbody>\n",
       "</table>\n",
       "</div>"
      ],
      "text/plain": [
       "   movieId                               title  \\\n",
       "0        1                    Toy Story (1995)   \n",
       "1        2                      Jumanji (1995)   \n",
       "2        3             Grumpier Old Men (1995)   \n",
       "3        4            Waiting to Exhale (1995)   \n",
       "4        5  Father of the Bride Part II (1995)   \n",
       "\n",
       "                                        genres  \n",
       "0  Adventure|Animation|Children|Comedy|Fantasy  \n",
       "1                   Adventure|Children|Fantasy  \n",
       "2                               Comedy|Romance  \n",
       "3                         Comedy|Drama|Romance  \n",
       "4                                       Comedy  "
      ]
     },
     "execution_count": 2,
     "metadata": {},
     "output_type": "execute_result"
    }
   ],
   "source": [
    "# Read in movie dataset\n",
    "movie_file = '01_Movie_Data/movies.csv'\n",
    "movies_df = pd.read_csv(movie_file)\n",
    "movies_df.head()"
   ]
  },
  {
   "cell_type": "code",
   "execution_count": 3,
   "id": "771f5f55-c189-4498-910e-4bed19993b85",
   "metadata": {},
   "outputs": [],
   "source": [
    "#Define right function\n",
    "def right(s, amount):\n",
    "    return s[-amount:]"
   ]
  },
  {
   "cell_type": "code",
   "execution_count": 4,
   "id": "1c0b55d9-d118-45b9-a8a7-6cc3b6fc41cf",
   "metadata": {},
   "outputs": [
    {
     "name": "stderr",
     "output_type": "stream",
     "text": [
      "<ipython-input-4-feafde5741ef>:5: SettingWithCopyWarning: \n",
      "A value is trying to be set on a copy of a slice from a DataFrame\n",
      "\n",
      "See the caveats in the documentation: https://pandas.pydata.org/pandas-docs/stable/user_guide/indexing.html#returning-a-view-versus-a-copy\n",
      "  movies_df['title'][i] = movies_df['title'][i].replace(year,'')\n"
     ]
    }
   ],
   "source": [
    "# Take the year out of the title column and create a year column\n",
    "years = []\n",
    "for i in range(len(movies_df)):\n",
    "    year = right(movies_df['title'][i],6)\n",
    "    movies_df['title'][i] = movies_df['title'][i].replace(year,'')\n",
    "    year = year.replace(\"(\",\"\")\n",
    "    year = year.replace(\")\",\"\")\n",
    "    years.append(year)\n",
    "\n",
    "# Add a year column to the dataframe\n",
    "movies_df['year'] = years"
   ]
  },
  {
   "cell_type": "code",
   "execution_count": 5,
   "id": "4c3be005-d6de-4bda-9bf8-54ebb1835fd9",
   "metadata": {},
   "outputs": [
    {
     "data": {
      "text/html": [
       "<div>\n",
       "<style scoped>\n",
       "    .dataframe tbody tr th:only-of-type {\n",
       "        vertical-align: middle;\n",
       "    }\n",
       "\n",
       "    .dataframe tbody tr th {\n",
       "        vertical-align: top;\n",
       "    }\n",
       "\n",
       "    .dataframe thead th {\n",
       "        text-align: right;\n",
       "    }\n",
       "</style>\n",
       "<table border=\"1\" class=\"dataframe\">\n",
       "  <thead>\n",
       "    <tr style=\"text-align: right;\">\n",
       "      <th></th>\n",
       "      <th>movieId</th>\n",
       "      <th>title</th>\n",
       "      <th>genres</th>\n",
       "      <th>year</th>\n",
       "    </tr>\n",
       "  </thead>\n",
       "  <tbody>\n",
       "    <tr>\n",
       "      <th>0</th>\n",
       "      <td>1</td>\n",
       "      <td>Toy Story</td>\n",
       "      <td>Adventure|Animation|Children|Comedy|Fantasy</td>\n",
       "      <td>1995</td>\n",
       "    </tr>\n",
       "    <tr>\n",
       "      <th>1</th>\n",
       "      <td>2</td>\n",
       "      <td>Jumanji</td>\n",
       "      <td>Adventure|Children|Fantasy</td>\n",
       "      <td>1995</td>\n",
       "    </tr>\n",
       "    <tr>\n",
       "      <th>2</th>\n",
       "      <td>3</td>\n",
       "      <td>Grumpier Old Men</td>\n",
       "      <td>Comedy|Romance</td>\n",
       "      <td>1995</td>\n",
       "    </tr>\n",
       "    <tr>\n",
       "      <th>3</th>\n",
       "      <td>4</td>\n",
       "      <td>Waiting to Exhale</td>\n",
       "      <td>Comedy|Drama|Romance</td>\n",
       "      <td>1995</td>\n",
       "    </tr>\n",
       "    <tr>\n",
       "      <th>4</th>\n",
       "      <td>5</td>\n",
       "      <td>Father of the Bride Part II</td>\n",
       "      <td>Comedy</td>\n",
       "      <td>1995</td>\n",
       "    </tr>\n",
       "  </tbody>\n",
       "</table>\n",
       "</div>"
      ],
      "text/plain": [
       "   movieId                         title  \\\n",
       "0        1                    Toy Story    \n",
       "1        2                      Jumanji    \n",
       "2        3             Grumpier Old Men    \n",
       "3        4            Waiting to Exhale    \n",
       "4        5  Father of the Bride Part II    \n",
       "\n",
       "                                        genres  year  \n",
       "0  Adventure|Animation|Children|Comedy|Fantasy  1995  \n",
       "1                   Adventure|Children|Fantasy  1995  \n",
       "2                               Comedy|Romance  1995  \n",
       "3                         Comedy|Drama|Romance  1995  \n",
       "4                                       Comedy  1995  "
      ]
     },
     "execution_count": 5,
     "metadata": {},
     "output_type": "execute_result"
    }
   ],
   "source": [
    "movies_df.head()"
   ]
  },
  {
   "cell_type": "code",
   "execution_count": 6,
   "id": "9ec6edf9-ad68-4bd7-a518-c0589c2f52fb",
   "metadata": {},
   "outputs": [],
   "source": [
    "# Write dataframe to a CSV file\n",
    "movies_df.to_csv(\"01_Movie_Data/movies_cleaned.csv\", index=False, header=True)"
   ]
  },
  {
   "cell_type": "markdown",
   "id": "e7ef12f0-7ea2-46d9-aea8-e015b18067d0",
   "metadata": {},
   "source": [
    "### Start Code Here if movies_cleaned.csv already exists"
   ]
  },
  {
   "cell_type": "code",
   "execution_count": 7,
   "id": "44f49a8d-ac62-41c2-86b4-0730c7080b08",
   "metadata": {},
   "outputs": [
    {
     "data": {
      "text/html": [
       "<div>\n",
       "<style scoped>\n",
       "    .dataframe tbody tr th:only-of-type {\n",
       "        vertical-align: middle;\n",
       "    }\n",
       "\n",
       "    .dataframe tbody tr th {\n",
       "        vertical-align: top;\n",
       "    }\n",
       "\n",
       "    .dataframe thead th {\n",
       "        text-align: right;\n",
       "    }\n",
       "</style>\n",
       "<table border=\"1\" class=\"dataframe\">\n",
       "  <thead>\n",
       "    <tr style=\"text-align: right;\">\n",
       "      <th></th>\n",
       "      <th>movieId</th>\n",
       "      <th>title</th>\n",
       "      <th>genres</th>\n",
       "      <th>year</th>\n",
       "    </tr>\n",
       "  </thead>\n",
       "  <tbody>\n",
       "    <tr>\n",
       "      <th>0</th>\n",
       "      <td>1</td>\n",
       "      <td>Toy Story</td>\n",
       "      <td>Adventure|Animation|Children|Comedy|Fantasy</td>\n",
       "      <td>1995</td>\n",
       "    </tr>\n",
       "    <tr>\n",
       "      <th>1</th>\n",
       "      <td>2</td>\n",
       "      <td>Jumanji</td>\n",
       "      <td>Adventure|Children|Fantasy</td>\n",
       "      <td>1995</td>\n",
       "    </tr>\n",
       "    <tr>\n",
       "      <th>2</th>\n",
       "      <td>3</td>\n",
       "      <td>Grumpier Old Men</td>\n",
       "      <td>Comedy|Romance</td>\n",
       "      <td>1995</td>\n",
       "    </tr>\n",
       "    <tr>\n",
       "      <th>3</th>\n",
       "      <td>4</td>\n",
       "      <td>Waiting to Exhale</td>\n",
       "      <td>Comedy|Drama|Romance</td>\n",
       "      <td>1995</td>\n",
       "    </tr>\n",
       "    <tr>\n",
       "      <th>4</th>\n",
       "      <td>5</td>\n",
       "      <td>Father of the Bride Part II</td>\n",
       "      <td>Comedy</td>\n",
       "      <td>1995</td>\n",
       "    </tr>\n",
       "  </tbody>\n",
       "</table>\n",
       "</div>"
      ],
      "text/plain": [
       "   movieId                         title  \\\n",
       "0        1                    Toy Story    \n",
       "1        2                      Jumanji    \n",
       "2        3             Grumpier Old Men    \n",
       "3        4            Waiting to Exhale    \n",
       "4        5  Father of the Bride Part II    \n",
       "\n",
       "                                        genres  year  \n",
       "0  Adventure|Animation|Children|Comedy|Fantasy  1995  \n",
       "1                   Adventure|Children|Fantasy  1995  \n",
       "2                               Comedy|Romance  1995  \n",
       "3                         Comedy|Drama|Romance  1995  \n",
       "4                                       Comedy  1995  "
      ]
     },
     "execution_count": 7,
     "metadata": {},
     "output_type": "execute_result"
    }
   ],
   "source": [
    "# Read in cleaned up movies csv\n",
    "movie_file = '01_Movie_Data/movies_cleaned.csv'\n",
    "movies_df = pd.read_csv(movie_file)\n",
    "movies_df.head()"
   ]
  },
  {
   "cell_type": "code",
   "execution_count": 8,
   "id": "cc50ca6a-9a46-4b30-8792-d09f27484680",
   "metadata": {},
   "outputs": [
    {
     "data": {
      "text/html": [
       "<div>\n",
       "<style scoped>\n",
       "    .dataframe tbody tr th:only-of-type {\n",
       "        vertical-align: middle;\n",
       "    }\n",
       "\n",
       "    .dataframe tbody tr th {\n",
       "        vertical-align: top;\n",
       "    }\n",
       "\n",
       "    .dataframe thead th {\n",
       "        text-align: right;\n",
       "    }\n",
       "</style>\n",
       "<table border=\"1\" class=\"dataframe\">\n",
       "  <thead>\n",
       "    <tr style=\"text-align: right;\">\n",
       "      <th></th>\n",
       "      <th>userId</th>\n",
       "      <th>movieId</th>\n",
       "      <th>rating</th>\n",
       "    </tr>\n",
       "  </thead>\n",
       "  <tbody>\n",
       "    <tr>\n",
       "      <th>0</th>\n",
       "      <td>1</td>\n",
       "      <td>307</td>\n",
       "      <td>3.5</td>\n",
       "    </tr>\n",
       "    <tr>\n",
       "      <th>1</th>\n",
       "      <td>1</td>\n",
       "      <td>481</td>\n",
       "      <td>3.5</td>\n",
       "    </tr>\n",
       "    <tr>\n",
       "      <th>2</th>\n",
       "      <td>1</td>\n",
       "      <td>1091</td>\n",
       "      <td>1.5</td>\n",
       "    </tr>\n",
       "    <tr>\n",
       "      <th>3</th>\n",
       "      <td>1</td>\n",
       "      <td>1257</td>\n",
       "      <td>4.5</td>\n",
       "    </tr>\n",
       "    <tr>\n",
       "      <th>4</th>\n",
       "      <td>1</td>\n",
       "      <td>1449</td>\n",
       "      <td>4.5</td>\n",
       "    </tr>\n",
       "  </tbody>\n",
       "</table>\n",
       "</div>"
      ],
      "text/plain": [
       "   userId  movieId  rating\n",
       "0       1      307     3.5\n",
       "1       1      481     3.5\n",
       "2       1     1091     1.5\n",
       "3       1     1257     4.5\n",
       "4       1     1449     4.5"
      ]
     },
     "execution_count": 8,
     "metadata": {},
     "output_type": "execute_result"
    }
   ],
   "source": [
    "# Read in ratings csv\n",
    "ratings_file = '01_Movie_Data/ratings.csv'\n",
    "ratings_df = pd.read_csv(ratings_file)\n",
    "ratings_df.head()"
   ]
  },
  {
   "cell_type": "code",
   "execution_count": 9,
   "id": "92dfbb2e-e0a7-4bee-ba41-5879eed30327",
   "metadata": {},
   "outputs": [
    {
     "name": "stdout",
     "output_type": "stream",
     "text": [
      "There are 10,532 unique users and 22,156 unique movies in the ratings data set\n"
     ]
    }
   ],
   "source": [
    "#Find the number of users and the number of movies rated in the ratings csv\n",
    "num_users = len(set(ratings_df['userId']))\n",
    "num_movies = len(set(ratings_df['movieId']))\n",
    "print(f'There are {num_users:,} unique users and {num_movies:,} unique movies in the ratings data set')\n",
    "# The set function is used to get all the unique values from both columns"
   ]
  },
  {
   "cell_type": "markdown",
   "id": "a01e2e89-6dc3-4a67-8b07-2e59c28a221d",
   "metadata": {},
   "source": [
    "### Better understand the number of ratings per movie\n",
    "This will lead to trimming the dataset so that only movies with a certain number of ratings remain"
   ]
  },
  {
   "cell_type": "code",
   "execution_count": 10,
   "id": "ec7e080a-2a01-4e21-812b-a6005c196623",
   "metadata": {},
   "outputs": [
    {
     "data": {
      "text/html": [
       "<div>\n",
       "<style scoped>\n",
       "    .dataframe tbody tr th:only-of-type {\n",
       "        vertical-align: middle;\n",
       "    }\n",
       "\n",
       "    .dataframe tbody tr th {\n",
       "        vertical-align: top;\n",
       "    }\n",
       "\n",
       "    .dataframe thead th {\n",
       "        text-align: right;\n",
       "    }\n",
       "</style>\n",
       "<table border=\"1\" class=\"dataframe\">\n",
       "  <thead>\n",
       "    <tr style=\"text-align: right;\">\n",
       "      <th></th>\n",
       "      <th>count</th>\n",
       "    </tr>\n",
       "    <tr>\n",
       "      <th>movieId</th>\n",
       "      <th></th>\n",
       "    </tr>\n",
       "  </thead>\n",
       "  <tbody>\n",
       "    <tr>\n",
       "      <th>1</th>\n",
       "      <td>2573</td>\n",
       "    </tr>\n",
       "    <tr>\n",
       "      <th>2</th>\n",
       "      <td>1021</td>\n",
       "    </tr>\n",
       "    <tr>\n",
       "      <th>3</th>\n",
       "      <td>629</td>\n",
       "    </tr>\n",
       "    <tr>\n",
       "      <th>4</th>\n",
       "      <td>129</td>\n",
       "    </tr>\n",
       "    <tr>\n",
       "      <th>5</th>\n",
       "      <td>592</td>\n",
       "    </tr>\n",
       "  </tbody>\n",
       "</table>\n",
       "</div>"
      ],
      "text/plain": [
       "         count\n",
       "movieId       \n",
       "1         2573\n",
       "2         1021\n",
       "3          629\n",
       "4          129\n",
       "5          592"
      ]
     },
     "execution_count": 10,
     "metadata": {},
     "output_type": "execute_result"
    }
   ],
   "source": [
    "# Get a count of the number of ratings for each movie\n",
    "movie_rating_cnt_df = pd.DataFrame(ratings_df.groupby('movieId').size(), columns=['count'])\n",
    "movie_rating_cnt_df.head()"
   ]
  },
  {
   "cell_type": "code",
   "execution_count": 11,
   "id": "c056b4b5-b49d-445a-a519-f3f6f61dd395",
   "metadata": {},
   "outputs": [
    {
     "data": {
      "text/html": [
       "<div>\n",
       "<style scoped>\n",
       "    .dataframe tbody tr th:only-of-type {\n",
       "        vertical-align: middle;\n",
       "    }\n",
       "\n",
       "    .dataframe tbody tr th {\n",
       "        vertical-align: top;\n",
       "    }\n",
       "\n",
       "    .dataframe thead th {\n",
       "        text-align: right;\n",
       "    }\n",
       "</style>\n",
       "<table border=\"1\" class=\"dataframe\">\n",
       "  <thead>\n",
       "    <tr style=\"text-align: right;\">\n",
       "      <th></th>\n",
       "      <th>count</th>\n",
       "    </tr>\n",
       "    <tr>\n",
       "      <th>movieId</th>\n",
       "      <th></th>\n",
       "    </tr>\n",
       "  </thead>\n",
       "  <tbody>\n",
       "    <tr>\n",
       "      <th>356</th>\n",
       "      <td>3606</td>\n",
       "    </tr>\n",
       "    <tr>\n",
       "      <th>318</th>\n",
       "      <td>3582</td>\n",
       "    </tr>\n",
       "    <tr>\n",
       "      <th>296</th>\n",
       "      <td>3410</td>\n",
       "    </tr>\n",
       "    <tr>\n",
       "      <th>593</th>\n",
       "      <td>3244</td>\n",
       "    </tr>\n",
       "    <tr>\n",
       "      <th>2571</th>\n",
       "      <td>3117</td>\n",
       "    </tr>\n",
       "  </tbody>\n",
       "</table>\n",
       "</div>"
      ],
      "text/plain": [
       "         count\n",
       "movieId       \n",
       "356       3606\n",
       "318       3582\n",
       "296       3410\n",
       "593       3244\n",
       "2571      3117"
      ]
     },
     "execution_count": 11,
     "metadata": {},
     "output_type": "execute_result"
    }
   ],
   "source": [
    "# Sort movies from highest number of ratings to lowest\n",
    "sorted_rating_cnt_df = movie_rating_cnt_df.sort_values(\"count\", ascending=False)\n",
    "sorted_rating_cnt_df.head()"
   ]
  },
  {
   "cell_type": "code",
   "execution_count": 12,
   "id": "b89708d2-4872-4d2b-b868-d35ec0004214",
   "metadata": {},
   "outputs": [
    {
     "data": {
      "text/html": [
       "<div>\n",
       "<style scoped>\n",
       "    .dataframe tbody tr th:only-of-type {\n",
       "        vertical-align: middle;\n",
       "    }\n",
       "\n",
       "    .dataframe tbody tr th {\n",
       "        vertical-align: top;\n",
       "    }\n",
       "\n",
       "    .dataframe thead th {\n",
       "        text-align: right;\n",
       "    }\n",
       "</style>\n",
       "<table border=\"1\" class=\"dataframe\">\n",
       "  <thead>\n",
       "    <tr style=\"text-align: right;\">\n",
       "      <th></th>\n",
       "      <th>count</th>\n",
       "      <th>movieId</th>\n",
       "    </tr>\n",
       "  </thead>\n",
       "  <tbody>\n",
       "    <tr>\n",
       "      <th>0</th>\n",
       "      <td>3606</td>\n",
       "      <td>356</td>\n",
       "    </tr>\n",
       "    <tr>\n",
       "      <th>1</th>\n",
       "      <td>3582</td>\n",
       "      <td>318</td>\n",
       "    </tr>\n",
       "    <tr>\n",
       "      <th>2</th>\n",
       "      <td>3410</td>\n",
       "      <td>296</td>\n",
       "    </tr>\n",
       "    <tr>\n",
       "      <th>3</th>\n",
       "      <td>3244</td>\n",
       "      <td>593</td>\n",
       "    </tr>\n",
       "    <tr>\n",
       "      <th>4</th>\n",
       "      <td>3117</td>\n",
       "      <td>2571</td>\n",
       "    </tr>\n",
       "  </tbody>\n",
       "</table>\n",
       "</div>"
      ],
      "text/plain": [
       "   count  movieId\n",
       "0   3606      356\n",
       "1   3582      318\n",
       "2   3410      296\n",
       "3   3244      593\n",
       "4   3117     2571"
      ]
     },
     "execution_count": 12,
     "metadata": {},
     "output_type": "execute_result"
    }
   ],
   "source": [
    "# Make movieId a normal column not the index column\n",
    "sorted_rating_cnt_df['movieId'] = sorted_rating_cnt_df.index\n",
    "# Delete the index column\n",
    "sorted_rating_cnt_df.reset_index(drop=True, inplace=True)\n",
    "sorted_rating_cnt_df.head()"
   ]
  },
  {
   "cell_type": "code",
   "execution_count": 13,
   "id": "eb59381c-78a5-4c92-8a8d-4ad67d7089dd",
   "metadata": {},
   "outputs": [
    {
     "data": {
      "image/png": "[encoded data removed]",
      "text/plain": [
       "<Figure size 432x288 with 1 Axes>"
      ]
     },
     "metadata": {
      "needs_background": "light"
     },
     "output_type": "display_data"
    }
   ],
   "source": [
    "# Plot the number of times each movie was rated\n",
    "x = sorted_rating_cnt_df.index\n",
    "y = sorted_rating_cnt_df['count']\n",
    "plt.plot(x, y,color='r')\n",
    "plt.title(\"Number of Ratings per Movie\")\n",
    "plt.ylabel(\"Number of Ratings\")\n",
    "plt.show()"
   ]
  },
  {
   "cell_type": "markdown",
   "id": "e90a2ce5-1d18-4b05-9241-d52e5d96f149",
   "metadata": {},
   "source": [
    "#### Graph Takeaways\n",
    "This graph may be a little hard to read, but what it is showing is that they are a select few number of movies that received a very high number of ratings. Outside of these movies, all the rest of the movies did not receive many ratings each at all"
   ]
  },
  {
   "cell_type": "code",
   "execution_count": 14,
   "id": "5826d7f7-7562-4605-bd6d-8f7d85ead33d",
   "metadata": {},
   "outputs": [
    {
     "data": {
      "text/plain": [
       "1.00    3606.0\n",
       "0.95     234.0\n",
       "0.90      96.0\n",
       "0.85      52.0\n",
       "0.80      31.0\n",
       "0.75      20.0\n",
       "0.70      13.0\n",
       "0.65       9.0\n",
       "0.60       6.0\n",
       "0.55       5.0\n",
       "0.50       4.0\n",
       "Name: count, dtype: float64"
      ]
     },
     "execution_count": 14,
     "metadata": {},
     "output_type": "execute_result"
    }
   ],
   "source": [
    "# Plot the quantiles of the number of ratings per movie to better understand the data\n",
    "sorted_rating_cnt_df['count'].quantile(np.arange(1, 0.49, -0.05))"
   ]
  },
  {
   "cell_type": "markdown",
   "id": "b4c8b3fd-2f41-4008-ad77-88c005cad727",
   "metadata": {},
   "source": [
    "#### Quantile Takeaways\n",
    "\n",
    "So what do these quantile values actually mean? Are these results significant? \n",
    "\n",
    "Quantiles in laymans terms are values which divide a sample such that there is a given proportion of observations below the quantile. For this example, the data is number of ratings for each movie in the dataset and the median quantile is 7 this means that 50% 0f the movies in this dataset have less than 7 ratings. \n",
    "\n",
    "Yes these results are significant because these results further emphasis the point made above that a select few movies have a very high number of ratings whereas the rest of movies have very few ratings. This data is showing that roughly 1% of movies in the dataset have at least 3,606 ratings, 5% of the movies in the dataset have at least 234 ratings, but only 50% of the movies in the dataset have at least 4 ratings \n",
    "\n",
    "Based on these results I am going to filter the data so that only movies with 10 or more ratings are included. This is roughly the 55% quantile meaning that when I filter for only movies with 10 or more ratings I will lose 45% of my initial dataset. \n",
    "\n",
    "In general deleting a massive chunk from the dataset like this is clearly not advised. However in this case because the dataset is so large and because so many movies have so few ratings I am going to proceed to filter these movies out."
   ]
  },
  {
   "cell_type": "code",
   "execution_count": 15,
   "id": "3c4f762b-4ac8-4684-a1ee-60b6f2161154",
   "metadata": {},
   "outputs": [],
   "source": [
    "# Filter out all movies rated less than 20 times \n",
    "sorted_rating_cnt_df = sorted_rating_cnt_df[sorted_rating_cnt_df['count']>20]\n",
    "filtered_movies_df = sorted_rating_cnt_df"
   ]
  },
  {
   "cell_type": "code",
   "execution_count": 16,
   "id": "c325bd11-17dc-4d50-bfb2-cbf601f4babb",
   "metadata": {},
   "outputs": [
    {
     "name": "stdout",
     "output_type": "stream",
     "text": [
      "There are 5,419 movies with 10 or more ratings. There were 22,156 in the original dataset.\n"
     ]
    }
   ],
   "source": [
    "# Create a print statement to show how many movies have more than 20 ratings\n",
    "num_movies_with_high_num_ratings = len(set(filtered_movies_df['movieId']))\n",
    "print(f'There are {num_movies_with_high_num_ratings:,} movies with 20 or more ratings. There were {num_movies:,} in the original dataset.')"
   ]
  },
  {
   "cell_type": "code",
   "execution_count": 17,
   "id": "c33c4f72-2ec8-4755-85ea-36136a888f7c",
   "metadata": {},
   "outputs": [
    {
     "data": {
      "text/html": [
       "<div>\n",
       "<style scoped>\n",
       "    .dataframe tbody tr th:only-of-type {\n",
       "        vertical-align: middle;\n",
       "    }\n",
       "\n",
       "    .dataframe tbody tr th {\n",
       "        vertical-align: top;\n",
       "    }\n",
       "\n",
       "    .dataframe thead th {\n",
       "        text-align: right;\n",
       "    }\n",
       "</style>\n",
       "<table border=\"1\" class=\"dataframe\">\n",
       "  <thead>\n",
       "    <tr style=\"text-align: right;\">\n",
       "      <th></th>\n",
       "      <th>count</th>\n",
       "      <th>movieId</th>\n",
       "    </tr>\n",
       "  </thead>\n",
       "  <tbody>\n",
       "    <tr>\n",
       "      <th>0</th>\n",
       "      <td>3606</td>\n",
       "      <td>356</td>\n",
       "    </tr>\n",
       "    <tr>\n",
       "      <th>1</th>\n",
       "      <td>3582</td>\n",
       "      <td>318</td>\n",
       "    </tr>\n",
       "    <tr>\n",
       "      <th>2</th>\n",
       "      <td>3410</td>\n",
       "      <td>296</td>\n",
       "    </tr>\n",
       "    <tr>\n",
       "      <th>3</th>\n",
       "      <td>3244</td>\n",
       "      <td>593</td>\n",
       "    </tr>\n",
       "    <tr>\n",
       "      <th>4</th>\n",
       "      <td>3117</td>\n",
       "      <td>2571</td>\n",
       "    </tr>\n",
       "  </tbody>\n",
       "</table>\n",
       "</div>"
      ],
      "text/plain": [
       "   count  movieId\n",
       "0   3606      356\n",
       "1   3582      318\n",
       "2   3410      296\n",
       "3   3244      593\n",
       "4   3117     2571"
      ]
     },
     "execution_count": 17,
     "metadata": {},
     "output_type": "execute_result"
    }
   ],
   "source": [
    "filtered_movies_df.head()"
   ]
  },
  {
   "cell_type": "code",
   "execution_count": 18,
   "id": "41814de2-a1b7-44bd-8c9c-a134c648bc30",
   "metadata": {},
   "outputs": [],
   "source": [
    "# filtered_movies_df is a filtered version of sorted_rating_cnt_df which is just a grouping of ratings_df\n",
    "# To actually filter the ratings_df dataframe it needs to be merged with the filtered dataframe\n",
    "ratings_df1 = pd.merge(filtered_movies_df, ratings_df, on=\"movieId\", how=\"left\")"
   ]
  },
  {
   "cell_type": "code",
   "execution_count": 19,
   "id": "e8ccff9d-6144-4959-b33f-1154c47553f0",
   "metadata": {},
   "outputs": [
    {
     "name": "stdout",
     "output_type": "stream",
     "text": [
      "There are 5,419 movies remaining in the dataset (Movies with 10 or more ratings). There were 22,156 in the original dataset.\n"
     ]
    }
   ],
   "source": [
    "# Check the merge worked correctly\n",
    "num_movies1 = len(set(ratings_df1['movieId']))\n",
    "print(f'There are {num_movies1:,} movies remaining in the dataset (Movies with 20 or more ratings). There were {num_movies:,} in the original dataset.')"
   ]
  },
  {
   "cell_type": "code",
   "execution_count": 20,
   "id": "56b82fc5-e309-46f7-a2cc-09cfbc0e079c",
   "metadata": {},
   "outputs": [
    {
     "data": {
      "text/html": [
       "<div>\n",
       "<style scoped>\n",
       "    .dataframe tbody tr th:only-of-type {\n",
       "        vertical-align: middle;\n",
       "    }\n",
       "\n",
       "    .dataframe tbody tr th {\n",
       "        vertical-align: top;\n",
       "    }\n",
       "\n",
       "    .dataframe thead th {\n",
       "        text-align: right;\n",
       "    }\n",
       "</style>\n",
       "<table border=\"1\" class=\"dataframe\">\n",
       "  <thead>\n",
       "    <tr style=\"text-align: right;\">\n",
       "      <th></th>\n",
       "      <th>count</th>\n",
       "      <th>movieId</th>\n",
       "      <th>userId</th>\n",
       "      <th>rating</th>\n",
       "    </tr>\n",
       "  </thead>\n",
       "  <tbody>\n",
       "    <tr>\n",
       "      <th>0</th>\n",
       "      <td>3606</td>\n",
       "      <td>356</td>\n",
       "      <td>4</td>\n",
       "      <td>3.5</td>\n",
       "    </tr>\n",
       "    <tr>\n",
       "      <th>1</th>\n",
       "      <td>3606</td>\n",
       "      <td>356</td>\n",
       "      <td>14</td>\n",
       "      <td>4.0</td>\n",
       "    </tr>\n",
       "    <tr>\n",
       "      <th>2</th>\n",
       "      <td>3606</td>\n",
       "      <td>356</td>\n",
       "      <td>15</td>\n",
       "      <td>5.0</td>\n",
       "    </tr>\n",
       "    <tr>\n",
       "      <th>3</th>\n",
       "      <td>3606</td>\n",
       "      <td>356</td>\n",
       "      <td>18</td>\n",
       "      <td>5.0</td>\n",
       "    </tr>\n",
       "    <tr>\n",
       "      <th>4</th>\n",
       "      <td>3606</td>\n",
       "      <td>356</td>\n",
       "      <td>26</td>\n",
       "      <td>4.5</td>\n",
       "    </tr>\n",
       "  </tbody>\n",
       "</table>\n",
       "</div>"
      ],
      "text/plain": [
       "   count  movieId  userId  rating\n",
       "0   3606      356       4     3.5\n",
       "1   3606      356      14     4.0\n",
       "2   3606      356      15     5.0\n",
       "3   3606      356      18     5.0\n",
       "4   3606      356      26     4.5"
      ]
     },
     "execution_count": 20,
     "metadata": {},
     "output_type": "execute_result"
    }
   ],
   "source": [
    "ratings_df1.head()"
   ]
  },
  {
   "cell_type": "markdown",
   "id": "76018411-f406-4728-a213-b32b3a883a93",
   "metadata": {},
   "source": [
    "### Better understand the number of ratings per user\n",
    "This will lead to trimming the dataset so that only users with a certain number of ratings remain"
   ]
  },
  {
   "cell_type": "code",
   "execution_count": 21,
   "id": "2b8d0269-bfab-4b60-91be-a92f8aa38317",
   "metadata": {},
   "outputs": [
    {
     "data": {
      "text/html": [
       "<div>\n",
       "<style scoped>\n",
       "    .dataframe tbody tr th:only-of-type {\n",
       "        vertical-align: middle;\n",
       "    }\n",
       "\n",
       "    .dataframe tbody tr th {\n",
       "        vertical-align: top;\n",
       "    }\n",
       "\n",
       "    .dataframe thead th {\n",
       "        text-align: right;\n",
       "    }\n",
       "</style>\n",
       "<table border=\"1\" class=\"dataframe\">\n",
       "  <thead>\n",
       "    <tr style=\"text-align: right;\">\n",
       "      <th></th>\n",
       "      <th>count</th>\n",
       "    </tr>\n",
       "    <tr>\n",
       "      <th>userId</th>\n",
       "      <th></th>\n",
       "    </tr>\n",
       "  </thead>\n",
       "  <tbody>\n",
       "    <tr>\n",
       "      <th>1</th>\n",
       "      <td>16</td>\n",
       "    </tr>\n",
       "    <tr>\n",
       "      <th>2</th>\n",
       "      <td>15</td>\n",
       "    </tr>\n",
       "    <tr>\n",
       "      <th>3</th>\n",
       "      <td>8</td>\n",
       "    </tr>\n",
       "    <tr>\n",
       "      <th>4</th>\n",
       "      <td>722</td>\n",
       "    </tr>\n",
       "    <tr>\n",
       "      <th>5</th>\n",
       "      <td>71</td>\n",
       "    </tr>\n",
       "  </tbody>\n",
       "</table>\n",
       "</div>"
      ],
      "text/plain": [
       "        count\n",
       "userId       \n",
       "1          16\n",
       "2          15\n",
       "3           8\n",
       "4         722\n",
       "5          71"
      ]
     },
     "execution_count": 21,
     "metadata": {},
     "output_type": "execute_result"
    }
   ],
   "source": [
    "# Get a count of the number of ratings for each movie\n",
    "user_rating_cnt_df = pd.DataFrame(ratings_df1.groupby('userId').size(), columns=['count'])\n",
    "user_rating_cnt_df.head()"
   ]
  },
  {
   "cell_type": "code",
   "execution_count": 22,
   "id": "2fd67d82-dc52-48c5-b215-e1304a510882",
   "metadata": {},
   "outputs": [
    {
     "data": {
      "text/html": [
       "<div>\n",
       "<style scoped>\n",
       "    .dataframe tbody tr th:only-of-type {\n",
       "        vertical-align: middle;\n",
       "    }\n",
       "\n",
       "    .dataframe tbody tr th {\n",
       "        vertical-align: top;\n",
       "    }\n",
       "\n",
       "    .dataframe thead th {\n",
       "        text-align: right;\n",
       "    }\n",
       "</style>\n",
       "<table border=\"1\" class=\"dataframe\">\n",
       "  <thead>\n",
       "    <tr style=\"text-align: right;\">\n",
       "      <th></th>\n",
       "      <th>count</th>\n",
       "    </tr>\n",
       "    <tr>\n",
       "      <th>userId</th>\n",
       "      <th></th>\n",
       "    </tr>\n",
       "  </thead>\n",
       "  <tbody>\n",
       "    <tr>\n",
       "      <th>7705</th>\n",
       "      <td>3190</td>\n",
       "    </tr>\n",
       "    <tr>\n",
       "      <th>4796</th>\n",
       "      <td>2519</td>\n",
       "    </tr>\n",
       "    <tr>\n",
       "      <th>2150</th>\n",
       "      <td>2513</td>\n",
       "    </tr>\n",
       "    <tr>\n",
       "      <th>2025</th>\n",
       "      <td>2285</td>\n",
       "    </tr>\n",
       "    <tr>\n",
       "      <th>5323</th>\n",
       "      <td>2165</td>\n",
       "    </tr>\n",
       "  </tbody>\n",
       "</table>\n",
       "</div>"
      ],
      "text/plain": [
       "        count\n",
       "userId       \n",
       "7705     3190\n",
       "4796     2519\n",
       "2150     2513\n",
       "2025     2285\n",
       "5323     2165"
      ]
     },
     "execution_count": 22,
     "metadata": {},
     "output_type": "execute_result"
    }
   ],
   "source": [
    "# Sort users from highest number of ratings to lowest number of ratings\n",
    "sorted_user_rating_cnt_df = user_rating_cnt_df.sort_values(\"count\", ascending=False)\n",
    "sorted_user_rating_cnt_df.head()"
   ]
  },
  {
   "cell_type": "code",
   "execution_count": 23,
   "id": "a9c29968-2035-42e5-82bc-ee697e4e4fbe",
   "metadata": {},
   "outputs": [
    {
     "data": {
      "text/html": [
       "<div>\n",
       "<style scoped>\n",
       "    .dataframe tbody tr th:only-of-type {\n",
       "        vertical-align: middle;\n",
       "    }\n",
       "\n",
       "    .dataframe tbody tr th {\n",
       "        vertical-align: top;\n",
       "    }\n",
       "\n",
       "    .dataframe thead th {\n",
       "        text-align: right;\n",
       "    }\n",
       "</style>\n",
       "<table border=\"1\" class=\"dataframe\">\n",
       "  <thead>\n",
       "    <tr style=\"text-align: right;\">\n",
       "      <th></th>\n",
       "      <th>count</th>\n",
       "      <th>userId</th>\n",
       "    </tr>\n",
       "  </thead>\n",
       "  <tbody>\n",
       "    <tr>\n",
       "      <th>0</th>\n",
       "      <td>3190</td>\n",
       "      <td>7705</td>\n",
       "    </tr>\n",
       "    <tr>\n",
       "      <th>1</th>\n",
       "      <td>2519</td>\n",
       "      <td>4796</td>\n",
       "    </tr>\n",
       "    <tr>\n",
       "      <th>2</th>\n",
       "      <td>2513</td>\n",
       "      <td>2150</td>\n",
       "    </tr>\n",
       "    <tr>\n",
       "      <th>3</th>\n",
       "      <td>2285</td>\n",
       "      <td>2025</td>\n",
       "    </tr>\n",
       "    <tr>\n",
       "      <th>4</th>\n",
       "      <td>2165</td>\n",
       "      <td>5323</td>\n",
       "    </tr>\n",
       "  </tbody>\n",
       "</table>\n",
       "</div>"
      ],
      "text/plain": [
       "   count  userId\n",
       "0   3190    7705\n",
       "1   2519    4796\n",
       "2   2513    2150\n",
       "3   2285    2025\n",
       "4   2165    5323"
      ]
     },
     "execution_count": 23,
     "metadata": {},
     "output_type": "execute_result"
    }
   ],
   "source": [
    "# Make userId a normal column not the index column\n",
    "sorted_user_rating_cnt_df['userId'] = sorted_user_rating_cnt_df.index\n",
    "# Delete the index column\n",
    "sorted_user_rating_cnt_df.reset_index(drop=True, inplace=True)\n",
    "sorted_user_rating_cnt_df.head()"
   ]
  },
  {
   "cell_type": "code",
   "execution_count": 24,
   "id": "890ebc75-c101-43ef-895e-1f4f0cc0bf41",
   "metadata": {},
   "outputs": [
    {
     "data": {
      "image/png": "[encoded data removed]",
      "text/plain": [
       "<Figure size 432x288 with 1 Axes>"
      ]
     },
     "metadata": {
      "needs_background": "light"
     },
     "output_type": "display_data"
    }
   ],
   "source": [
    "# Plot the number of ratings per userID each movie was rated\n",
    "x = sorted_user_rating_cnt_df.index\n",
    "y = sorted_user_rating_cnt_df['count']\n",
    "plt.plot(x, y,color='r')\n",
    "plt.title(\"Number of Ratings per userId\")\n",
    "plt.ylabel(\"Number of Ratings\")\n",
    "plt.show()"
   ]
  },
  {
   "cell_type": "markdown",
   "id": "9c10a358-eb19-4ebf-b447-484a2c82f80f",
   "metadata": {},
   "source": [
    "#### Graph Takeaways\n",
    "This graph actually looks surprisingly similar to the graph for Number of Ratings per Movie. Therefore this graph leads to essentially the same conclustion: They are a select few number of users that have rated a very high number of movies. Outside of these users, all the rest of the users did not rate very many movies at all. \n",
    "\n",
    "This will become more apparent with the quantiles in the next line "
   ]
  },
  {
   "cell_type": "code",
   "execution_count": 25,
   "id": "8da17d01-c3b5-4bd0-a8d2-bd4de41487b8",
   "metadata": {},
   "outputs": [
    {
     "data": {
      "text/plain": [
       "1.00    3190.0\n",
       "0.95     393.0\n",
       "0.90     232.0\n",
       "0.85     162.0\n",
       "0.80     120.0\n",
       "0.75      94.0\n",
       "0.70      72.0\n",
       "0.65      57.0\n",
       "0.60      46.0\n",
       "0.55      37.0\n",
       "0.50      30.0\n",
       "0.45      24.0\n",
       "0.40      20.0\n",
       "0.35      17.0\n",
       "0.30      16.0\n",
       "0.25      15.0\n",
       "0.20      12.0\n",
       "0.15       9.0\n",
       "0.10       6.0\n",
       "0.05       4.0\n",
       "Name: count, dtype: float64"
      ]
     },
     "execution_count": 25,
     "metadata": {},
     "output_type": "execute_result"
    }
   ],
   "source": [
    "# Plot the quantiles of the number of ratings per user to better understand the data in the graph above\n",
    "sorted_user_rating_cnt_df['count'].quantile(np.arange(1, 0.0, -0.05))"
   ]
  },
  {
   "cell_type": "markdown",
   "id": "98273631-3622-45ce-a1f6-8045d7190031",
   "metadata": {},
   "source": [
    "#### Quantiles Takeaway \n",
    "Unlike for number of ratings per movie where I filtered out a roughly 75% of all movies. I am not going to be as selective with the number of users. I am only going to filter out users who rated less than 10 movies so 15% of all users"
   ]
  },
  {
   "cell_type": "code",
   "execution_count": 26,
   "id": "4bc74ca6-141a-4579-bae6-f751dec06f94",
   "metadata": {},
   "outputs": [],
   "source": [
    "# Filter out all users that have rated less than 10 different movies \n",
    "sorted_user_rating_cnt_df = sorted_user_rating_cnt_df[sorted_user_rating_cnt_df['count']>10]\n",
    "filtered_users_df = sorted_user_rating_cnt_df"
   ]
  },
  {
   "cell_type": "code",
   "execution_count": 27,
   "id": "4515431c-6213-4716-a733-b9ca1275081e",
   "metadata": {},
   "outputs": [
    {
     "name": "stdout",
     "output_type": "stream",
     "text": [
      "There are 8,701 users that have rated 10 or more different movies. There were 10,532 users in the original dataset.\n"
     ]
    }
   ],
   "source": [
    "# Create a print statement to show how many movies have more than 10 ratings\n",
    "num_users_with_high_num_ratings = len(set(filtered_users_df['userId']))\n",
    "print(f'There are {num_users_with_high_num_ratings:,} users that have rated 10 or more different movies. There were {num_users:,} users in the original dataset.')"
   ]
  },
  {
   "cell_type": "code",
   "execution_count": 28,
   "id": "0c64ff89-1d59-487f-a5d7-26a0362ebf18",
   "metadata": {},
   "outputs": [
    {
     "data": {
      "text/html": [
       "<div>\n",
       "<style scoped>\n",
       "    .dataframe tbody tr th:only-of-type {\n",
       "        vertical-align: middle;\n",
       "    }\n",
       "\n",
       "    .dataframe tbody tr th {\n",
       "        vertical-align: top;\n",
       "    }\n",
       "\n",
       "    .dataframe thead th {\n",
       "        text-align: right;\n",
       "    }\n",
       "</style>\n",
       "<table border=\"1\" class=\"dataframe\">\n",
       "  <thead>\n",
       "    <tr style=\"text-align: right;\">\n",
       "      <th></th>\n",
       "      <th>count</th>\n",
       "      <th>userId</th>\n",
       "    </tr>\n",
       "  </thead>\n",
       "  <tbody>\n",
       "    <tr>\n",
       "      <th>0</th>\n",
       "      <td>3190</td>\n",
       "      <td>7705</td>\n",
       "    </tr>\n",
       "    <tr>\n",
       "      <th>1</th>\n",
       "      <td>2519</td>\n",
       "      <td>4796</td>\n",
       "    </tr>\n",
       "    <tr>\n",
       "      <th>2</th>\n",
       "      <td>2513</td>\n",
       "      <td>2150</td>\n",
       "    </tr>\n",
       "    <tr>\n",
       "      <th>3</th>\n",
       "      <td>2285</td>\n",
       "      <td>2025</td>\n",
       "    </tr>\n",
       "    <tr>\n",
       "      <th>4</th>\n",
       "      <td>2165</td>\n",
       "      <td>5323</td>\n",
       "    </tr>\n",
       "  </tbody>\n",
       "</table>\n",
       "</div>"
      ],
      "text/plain": [
       "   count  userId\n",
       "0   3190    7705\n",
       "1   2519    4796\n",
       "2   2513    2150\n",
       "3   2285    2025\n",
       "4   2165    5323"
      ]
     },
     "execution_count": 28,
     "metadata": {},
     "output_type": "execute_result"
    }
   ],
   "source": [
    "filtered_users_df.head()"
   ]
  },
  {
   "cell_type": "code",
   "execution_count": 29,
   "id": "6612f15e-bac5-4ae7-9edc-75cae36da434",
   "metadata": {},
   "outputs": [],
   "source": [
    "# Filter main dataset by merging it with filtered one\n",
    "ratings_df2 = pd.merge(filtered_users_df, ratings_df1, on=\"userId\", how=\"left\")"
   ]
  },
  {
   "cell_type": "code",
   "execution_count": 30,
   "id": "77ed553c-dd52-43b3-91d0-3f7fa2e20f1e",
   "metadata": {},
   "outputs": [
    {
     "name": "stdout",
     "output_type": "stream",
     "text": [
      "Original Ratings Dataset had:\n",
      "Number of Rows 1,048,575\n",
      "Number of Movies 22,156\n",
      "Number of Users 10,532\n",
      "----------------------------------------------\n",
      "After Filtering out any movie with less then 10 ratings the dataset had:\n",
      "Number of Rows 979,973\n",
      "Number of Movies 5,419\n",
      "Number of Users 10,522\n",
      "----------------------------------------------\n",
      "After Filtering out any user who had rated less than 10 different movies the dataset had:\n",
      "Number of Rows 969,930\n",
      "Number of Movies 5,419\n",
      "Number of Users 8,701\n"
     ]
    }
   ],
   "source": [
    "# Print statements to see how the dataset has been trimmed\n",
    "print(f'Original Ratings Dataset had:')\n",
    "print(f'Number of Rows {len(ratings_df):,}')\n",
    "print(f'Number of Movies {num_movies:,}')\n",
    "print(f'Number of Users {num_users:,}')\n",
    "print('----------------------------------------------')\n",
    "print(f'After Filtering out any movie with less then 10 ratings the dataset had:')\n",
    "print(f'Number of Rows {len(ratings_df1):,}')\n",
    "print(f'Number of Movies {len(set(ratings_df1[\"movieId\"])):,}')\n",
    "print(f'Number of Users {len(set(ratings_df1[\"userId\"])):,}')\n",
    "print('----------------------------------------------')\n",
    "print(f'After Filtering out any user who had rated less than 10 different movies the dataset had:')\n",
    "print(f'Number of Rows {len(ratings_df2):,}')\n",
    "print(f'Number of Movies {len(set(ratings_df2[\"movieId\"])):,}')\n",
    "print(f'Number of Users {len(set(ratings_df2[\"userId\"])):,}')"
   ]
  },
  {
   "cell_type": "code",
   "execution_count": null,
   "id": "a7041259-80d2-40cd-a49a-e546c59489f4",
   "metadata": {},
   "outputs": [],
   "source": []
  },
  {
   "cell_type": "code",
   "execution_count": null,
   "id": "37384e85-eb84-4936-b36c-00ccaefc310c",
   "metadata": {},
   "outputs": [],
   "source": []
  },
  {
   "cell_type": "code",
   "execution_count": null,
   "id": "51bd95cd-4837-441c-82af-cf7cac257043",
   "metadata": {},
   "outputs": [],
   "source": []
  },
  {
   "cell_type": "code",
   "execution_count": null,
   "id": "39fbca74-340e-435d-bdd0-2765a441a3be",
   "metadata": {},
   "outputs": [],
   "source": []
  },
  {
   "cell_type": "code",
   "execution_count": null,
   "id": "96c58770-7d3e-479f-a5b5-0072b241cedf",
   "metadata": {},
   "outputs": [],
   "source": []
  }
 ],
 "metadata": {
  "kernelspec": {
   "display_name": "Python 3",
   "language": "python",
   "name": "python3"
  },
  "language_info": {
   "codemirror_mode": {
    "name": "ipython",
    "version": 3
   },
   "file_extension": ".py",
   "mimetype": "text/x-python",
   "name": "python",
   "nbconvert_exporter": "python",
   "pygments_lexer": "ipython3",
   "version": "3.8.8"
  }
 },
 "nbformat": 4,
 "nbformat_minor": 5
}
