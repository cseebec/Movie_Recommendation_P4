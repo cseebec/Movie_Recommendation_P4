{
 "cells": [
  {
   "cell_type": "code",
   "execution_count": 1,
   "id": "e04da82a-53d2-4927-9c47-a58cca2d46b9",
   "metadata": {},
   "outputs": [],
   "source": [
    "# Import Dependencies\n",
    "import pandas as pd\n",
    "import numpy as np\n",
    "from sklearn.feature_extraction.text import CountVectorizer\n",
    "from sklearn.metrics.pairwise import cosine_similarity\n",
    "import matplotlib.pyplot as plt"
   ]
  },
  {
   "cell_type": "code",
   "execution_count": 2,
   "id": "b5ffb0de-a99e-4d5c-a428-0ee0027c780b",
   "metadata": {},
   "outputs": [
    {
     "data": {
      "image/png": "[encoded data removed]",
      "text/plain": [
       "<Figure size 432x288 with 1 Axes>"
      ]
     },
     "metadata": {
      "needs_background": "light"
     },
     "output_type": "display_data"
    }
   ],
   "source": [
    "x1 = [0,1]\n",
    "y1 = [0,2]\n",
    "x2 = [0,2]\n",
    "y2 = [0,1]\n",
    "plt.plot(x1, y1, color='blue', label=\"Movie A\")\n",
    "plt.plot(x2, y2, color='red', label=\"Movie B\")\n",
    "plt.legend(loc=\"upper right\")\n",
    "plt.xlabel('Lose')\n",
    "plt.ylabel('Chelsea')\n",
    "\n",
    "#How to save plot as image on computer\n",
    "#plt.savefig(\"../Images/lineConfig.png\")\n",
    "plt.show()"
   ]
  },
  {
   "cell_type": "code",
   "execution_count": 3,
   "id": "34714bd8-95e6-484c-bdd0-0756f13f20f3",
   "metadata": {},
   "outputs": [
    {
     "data": {
      "text/html": [
       "<div>\n",
       "<style scoped>\n",
       "    .dataframe tbody tr th:only-of-type {\n",
       "        vertical-align: middle;\n",
       "    }\n",
       "\n",
       "    .dataframe tbody tr th {\n",
       "        vertical-align: top;\n",
       "    }\n",
       "\n",
       "    .dataframe thead th {\n",
       "        text-align: right;\n",
       "    }\n",
       "</style>\n",
       "<table border=\"1\" class=\"dataframe\">\n",
       "  <thead>\n",
       "    <tr style=\"text-align: right;\">\n",
       "      <th></th>\n",
       "      <th>genres</th>\n",
       "      <th>id</th>\n",
       "      <th>keywords</th>\n",
       "      <th>original_language</th>\n",
       "      <th>production_companies</th>\n",
       "      <th>title</th>\n",
       "      <th>cast</th>\n",
       "      <th>index</th>\n",
       "    </tr>\n",
       "  </thead>\n",
       "  <tbody>\n",
       "    <tr>\n",
       "      <th>0</th>\n",
       "      <td>Action  Adventure  Fantasy  Science Fiction</td>\n",
       "      <td>19995</td>\n",
       "      <td>culture clash  future  space war  space colo...</td>\n",
       "      <td>en</td>\n",
       "      <td>Ingenious Film Partners  Twentieth Century Fo...</td>\n",
       "      <td>Avatar</td>\n",
       "      <td>Sam Worthington  Zoe Saldana  Sigourney Weav...</td>\n",
       "      <td>0</td>\n",
       "    </tr>\n",
       "    <tr>\n",
       "      <th>1</th>\n",
       "      <td>Adventure  Fantasy  Action</td>\n",
       "      <td>285</td>\n",
       "      <td>ocean  drug abuse  exotic island  east india...</td>\n",
       "      <td>en</td>\n",
       "      <td>Walt Disney Pictures  Jerry Bruckheimer Films...</td>\n",
       "      <td>Pirates of the Caribbean: At World's End</td>\n",
       "      <td>Johnny Depp  Orlando Bloom  Keira Knightley ...</td>\n",
       "      <td>1</td>\n",
       "    </tr>\n",
       "    <tr>\n",
       "      <th>2</th>\n",
       "      <td>Action  Crime  Drama  Thriller</td>\n",
       "      <td>49026</td>\n",
       "      <td>dc comics  crime fighter  terrorist  secret ...</td>\n",
       "      <td>en</td>\n",
       "      <td>Legendary Pictures  Warner Bros.  DC Entertai...</td>\n",
       "      <td>The Dark Knight Rises</td>\n",
       "      <td>Christian Bale  Michael Caine  Gary Oldman  ...</td>\n",
       "      <td>2</td>\n",
       "    </tr>\n",
       "    <tr>\n",
       "      <th>3</th>\n",
       "      <td>Action  Adventure  Science Fiction</td>\n",
       "      <td>49529</td>\n",
       "      <td>based on novel  mars  medallion  space trave...</td>\n",
       "      <td>en</td>\n",
       "      <td>Walt Disney Pictures</td>\n",
       "      <td>John Carter</td>\n",
       "      <td>Taylor Kitsch  Lynn Collins  Samantha Morton...</td>\n",
       "      <td>3</td>\n",
       "    </tr>\n",
       "    <tr>\n",
       "      <th>4</th>\n",
       "      <td>Fantasy  Action  Adventure</td>\n",
       "      <td>559</td>\n",
       "      <td>dual identity  amnesia  sandstorm  love of o...</td>\n",
       "      <td>en</td>\n",
       "      <td>Columbia Pictures  Laura Ziskin Productions  ...</td>\n",
       "      <td>Spider-Man 3</td>\n",
       "      <td>Tobey Maguire  Kirsten Dunst  James Franco  ...</td>\n",
       "      <td>4</td>\n",
       "    </tr>\n",
       "  </tbody>\n",
       "</table>\n",
       "</div>"
      ],
      "text/plain": [
       "                                          genres     id  \\\n",
       "0    Action  Adventure  Fantasy  Science Fiction  19995   \n",
       "1                     Adventure  Fantasy  Action    285   \n",
       "2                 Action  Crime  Drama  Thriller  49026   \n",
       "3             Action  Adventure  Science Fiction  49529   \n",
       "4                     Fantasy  Action  Adventure    559   \n",
       "\n",
       "                                            keywords original_language  \\\n",
       "0    culture clash  future  space war  space colo...                en   \n",
       "1    ocean  drug abuse  exotic island  east india...                en   \n",
       "2    dc comics  crime fighter  terrorist  secret ...                en   \n",
       "3    based on novel  mars  medallion  space trave...                en   \n",
       "4    dual identity  amnesia  sandstorm  love of o...                en   \n",
       "\n",
       "                                production_companies  \\\n",
       "0   Ingenious Film Partners  Twentieth Century Fo...   \n",
       "1   Walt Disney Pictures  Jerry Bruckheimer Films...   \n",
       "2   Legendary Pictures  Warner Bros.  DC Entertai...   \n",
       "3                               Walt Disney Pictures   \n",
       "4   Columbia Pictures  Laura Ziskin Productions  ...   \n",
       "\n",
       "                                      title  \\\n",
       "0                                    Avatar   \n",
       "1  Pirates of the Caribbean: At World's End   \n",
       "2                     The Dark Knight Rises   \n",
       "3                               John Carter   \n",
       "4                              Spider-Man 3   \n",
       "\n",
       "                                                cast  index  \n",
       "0    Sam Worthington  Zoe Saldana  Sigourney Weav...      0  \n",
       "1    Johnny Depp  Orlando Bloom  Keira Knightley ...      1  \n",
       "2    Christian Bale  Michael Caine  Gary Oldman  ...      2  \n",
       "3    Taylor Kitsch  Lynn Collins  Samantha Morton...      3  \n",
       "4    Tobey Maguire  Kirsten Dunst  James Franco  ...      4  "
      ]
     },
     "execution_count": 3,
     "metadata": {},
     "output_type": "execute_result"
    }
   ],
   "source": [
    "# Read in the cleaned movie dataframe\n",
    "merge_file = '02_Clean_Dataset/movies.csv'\n",
    "merge_df = pd.read_csv(merge_file)\n",
    "merge_df.head()"
   ]
  },
  {
   "cell_type": "code",
   "execution_count": 4,
   "id": "5ba40602-f83b-42d5-b4fe-cfe3542b075c",
   "metadata": {},
   "outputs": [
    {
     "data": {
      "text/plain": [
       "genres                  4774\n",
       "id                      4802\n",
       "keywords                4390\n",
       "original_language       4802\n",
       "production_companies    4802\n",
       "title                   4802\n",
       "cast                    4760\n",
       "index                   4802\n",
       "dtype: int64"
      ]
     },
     "execution_count": 4,
     "metadata": {},
     "output_type": "execute_result"
    }
   ],
   "source": [
    "# Check for null values\n",
    "merge_df.count()"
   ]
  },
  {
   "cell_type": "code",
   "execution_count": 5,
   "id": "46b0123b-f6d6-4cdd-928b-19a7eacd5735",
   "metadata": {},
   "outputs": [
    {
     "data": {
      "text/plain": [
       "genres                  4802\n",
       "id                      4802\n",
       "keywords                4802\n",
       "original_language       4802\n",
       "production_companies    4802\n",
       "title                   4802\n",
       "cast                    4802\n",
       "index                   4802\n",
       "dtype: int64"
      ]
     },
     "execution_count": 5,
     "metadata": {},
     "output_type": "execute_result"
    }
   ],
   "source": [
    "# There were no null values in the dataframe in the last python code, but for some reason writing the dataframe . . . \n",
    "# to a csv and then reading it back in generated some null values in the genres and keywords columns.\n",
    "# These null values have to be converted to strings.\n",
    "merge_df['genres'] = merge_df['genres'].fillna('Blank')\n",
    "merge_df['keywords'] = merge_df['keywords'].fillna('Blank')\n",
    "merge_df['cast'] = merge_df['cast'].fillna('Blank')\n",
    "merge_df.count()"
   ]
  },
  {
   "cell_type": "code",
   "execution_count": 6,
   "id": "377fe3c8-20f0-45e6-8a10-4e36324969ac",
   "metadata": {},
   "outputs": [],
   "source": [
    "# Additionally for some reason some cells are type float not string so these have to be converted to string\n",
    "merge_df['genres'] = merge_df['genres'].apply(str)"
   ]
  },
  {
   "cell_type": "markdown",
   "id": "ad7f7196-8c00-45c8-84cf-c79f73995b84",
   "metadata": {},
   "source": [
    "## Calculate the Cosine Matrix for each column"
   ]
  },
  {
   "cell_type": "code",
   "execution_count": 7,
   "id": "e7d9e333-4081-4907-a0fa-989b139fadf8",
   "metadata": {},
   "outputs": [],
   "source": [
    "cv = CountVectorizer()\n",
    "# Calculate the count matrix for genres\n",
    "count_matrix = cv.fit_transform(merge_df[\"genres\"])\n",
    "# Calculate cosine similarity matrix based on count matrix results\n",
    "genre_cos_sim = cosine_similarity(count_matrix)\n",
    "#print(count_matrix)\n",
    "#print(genre_cos_sim)"
   ]
  },
  {
   "cell_type": "code",
   "execution_count": 8,
   "id": "06ca2639-396a-4fdd-960d-15d90148c371",
   "metadata": {},
   "outputs": [],
   "source": [
    "# Find similarity between movies based on keywords\n",
    "cv1 = CountVectorizer()\n",
    "count_matrix1 = cv1.fit_transform(merge_df[\"keywords\"])\n",
    "keywords_cos_sim = cosine_similarity(count_matrix1)"
   ]
  },
  {
   "cell_type": "code",
   "execution_count": 9,
   "id": "6868d435-d671-48de-b10e-50672a0e0e10",
   "metadata": {},
   "outputs": [],
   "source": [
    "# Find similarity between movies based on cast\n",
    "cv2 = CountVectorizer()\n",
    "count_matrix2 = cv2.fit_transform(merge_df[\"cast\"])\n",
    "cast_cos_sim = cosine_similarity(count_matrix2)"
   ]
  },
  {
   "cell_type": "code",
   "execution_count": 10,
   "id": "92c92aa9-f109-493e-9a35-3ec6f10a9cf2",
   "metadata": {},
   "outputs": [],
   "source": [
    "# Find similarity between movies based on production companies\n",
    "cv3 = CountVectorizer()\n",
    "count_matrix3 = cv3.fit_transform(merge_df[\"production_companies\"])\n",
    "prod_cos_sim = cosine_similarity(count_matrix3)"
   ]
  },
  {
   "cell_type": "markdown",
   "id": "eacc89e6-6ad8-44da-bb5a-6c1e5ec0df54",
   "metadata": {},
   "source": [
    "Add weights and combine the cosine similarity matrices so that the recommendations are based on all 4 fields not just 1"
   ]
  },
  {
   "cell_type": "code",
   "execution_count": 11,
   "id": "7dbaaf1d-2c7b-43bb-85f5-cd6232409dd0",
   "metadata": {},
   "outputs": [],
   "source": [
    "# Add weights to each column's cosine similarity matrix so that certain columns affect the recommended movies . . .\n",
    "# more than other columns. I want genres to effect the outcome the most and prod cos to effect it the least\n",
    "\n",
    "average_cosine = (genre_cos_sim*3.5) + (keywords_cos_sim*3) + (cast_cos_sim*2) + prod_cos_sim*1.5"
   ]
  },
  {
   "cell_type": "code",
   "execution_count": 12,
   "id": "51ef2354-219e-47a2-bc41-2abc490ef56b",
   "metadata": {},
   "outputs": [],
   "source": [
    "# Define function that returns the index when the movie title is entered as an argument\n",
    "def get_index(title):\n",
    "    return merge_df[merge_df[\"title\"] == title][\"index\"].values[0]\n",
    "# Define another function that returns the movie title when index is entered an argument\n",
    "def get_title(index):\n",
    "    return merge_df[merge_df[\"index\"] == index][\"title\"].values[0]"
   ]
  },
  {
   "cell_type": "code",
   "execution_count": 13,
   "id": "9ac71591-9ae6-46bf-a6cd-17ce442b0b82",
   "metadata": {},
   "outputs": [],
   "source": [
    "# Define a function to recommend the 5 most similar movies to the one the user enters in\n",
    "def get_similar_movies(user_movie):\n",
    "    try:\n",
    "        similar_index = get_index(user_movie)\n",
    "        similar_movies = list(enumerate(average_cosine[similar_index]))\n",
    "        #Sort the list in descending order that the most similar movies come up on top\n",
    "        similar_movies_sorted = sorted(similar_movies,key=lambda x:x[1],reverse=True)[1:]\n",
    "        y=0\n",
    "        # Display the most similar movies\n",
    "        for index in similar_movies_sorted:\n",
    "            print(get_title(index[0]))\n",
    "            y = y+1\n",
    "            if y==5:\n",
    "                break\n",
    "    except:\n",
    "        print(\"The movie you are looking for is not in the dataframe. Try another movie\")"
   ]
  },
  {
   "cell_type": "code",
   "execution_count": 19,
   "id": "85de90fe-d636-4747-bd06-16ccc808b8f8",
   "metadata": {},
   "outputs": [
    {
     "name": "stdout",
     "output_type": "stream",
     "text": [
      "Silent Running\n",
      "Midnight Special\n",
      "The Martian\n",
      "Star Trek IV: The Voyage Home\n",
      "Stargate: The Ark of Truth\n"
     ]
    }
   ],
   "source": [
    "# Find movies similar to what the user likes\n",
    "get_similar_movies(\"Interstellar\")"
   ]
  },
  {
   "cell_type": "markdown",
   "id": "29013e24-7f4c-4793-b87d-cbc0f19099e1",
   "metadata": {},
   "source": [
    "# Evaluate the Model\n",
    "Compare the genres of the predicted movies vs the genre of the actual movie"
   ]
  },
  {
   "cell_type": "code",
   "execution_count": 15,
   "id": "499fbfe6-d68b-4065-824c-52edb0b0b775",
   "metadata": {},
   "outputs": [],
   "source": [
    "# Define the same funcion over again, but this time only return the 2 most similar movies not 5\n",
    "def get_similar_movies2(user_movie):\n",
    "    try:\n",
    "        similar_index = get_index(user_movie)\n",
    "        similar_movies = list(enumerate(average_cosine[similar_index]))\n",
    "        #Sort the list in descending order that the most similar movies come up on top\n",
    "        similar_movies_sorted = sorted(similar_movies,key=lambda x:x[1],reverse=True)[1:]\n",
    "        y=0\n",
    "        # Display the most similar movies\n",
    "        index_list = []\n",
    "        for index in similar_movies_sorted:\n",
    "            index_list.append(index[0])\n",
    "            #print(get_title(index[0]))\n",
    "            y = y+1\n",
    "            if y==2:\n",
    "                return(index_list)\n",
    "                break\n",
    "    except:\n",
    "        print(\"The movie you are looking for is not in the dataframe. Try another movie\")"
   ]
  },
  {
   "cell_type": "markdown",
   "id": "55a96994-f4b5-4a68-be5c-4dfce2993c9b",
   "metadata": {},
   "source": [
    "### TF-IDF\n",
    "TF-IDF is an abbreviation for Term Frequency Inverse Document Frequency \n",
    "\n",
    "It is a very common algorithm used to transform text into numbers so it can be used in machine learning algorithms. Not surprisingly that is what the function is being used for in this code.\n",
    "\n",
    "Lets break it down a little more\n",
    "\n",
    "Term Frequency (TF) - how many times a word appears in a document \n",
    "\n",
    "Inverse Data Frequency (IDF) - how important a word is. Essentially the less a word appears in a dataset the higher its IDF will be\n",
    "\n",
    "Example: If you google \"when was the fall of the Roman Empire\" the word \"the\" appears twice so it will have the highest TF, but it is not an important word so it will have a low IDF. \n",
    "\n",
    "To understand it better in context lets look at the count of how many times each genre appears in the dataset"
   ]
  },
  {
   "cell_type": "code",
   "execution_count": 16,
   "id": "7e149dce-b561-4525-b199-71aa24134a62",
   "metadata": {},
   "outputs": [],
   "source": [
    "# For each cell in the genres column spilt it into a list on each space\n",
    "genrelist = merge_df['genres'].apply(lambda movie_genres : str(movie_genres).split(\" \"))\n",
    "# Create an empty dictionary\n",
    "genres_dict = {}\n",
    "i=0\n",
    "\n",
    "# Loop through every genre in every cell in the genre's column\n",
    "for movie_genres in genrelist:\n",
    "    for genre in movie_genres:\n",
    "        #Skip entries where it is just a space\n",
    "        if genre != \"\":\n",
    "            # Check if genre is already in dictionary using get function\n",
    "            if(genres_dict.get(genre,False)):\n",
    "                # If it is already in dictionary add one to its value\n",
    "                genres_dict[genre]=genres_dict[genre]+1\n",
    "            # If it is not already in dictionary add it to dictionary\n",
    "            else:\n",
    "                genres_dict[genre] = 1"
   ]
  },
  {
   "cell_type": "code",
   "execution_count": 17,
   "id": "6902bc2f-4899-405c-9243-8ce3b99fc6cf",
   "metadata": {},
   "outputs": [
    {
     "data": {
      "text/plain": [
       "dict_keys(['Action', 'Adventure', 'Fantasy', 'Science', 'Fiction', 'Crime', 'Drama', 'Thriller', 'Animation', 'Family', 'Western', 'Comedy', 'Romance', 'Horror', 'Mystery', 'History', 'War', 'Music', 'Documentary', 'Foreign', 'TV', 'Movie', 'Blank'])"
      ]
     },
     "execution_count": 17,
     "metadata": {},
     "output_type": "execute_result"
    }
   ],
   "source": [
    "# Dispay all genres \n",
    "genres_dict.keys()"
   ]
  },
  {
   "cell_type": "code",
   "execution_count": 18,
   "id": "1a4d74ec-54d0-470b-aa5c-9a252314d496",
   "metadata": {},
   "outputs": [
    {
     "data": {
      "image/png": "[encoded data removed]",
      "text/plain": [
       "<Figure size 1584x216 with 1 Axes>"
      ]
     },
     "metadata": {
      "needs_background": "light"
     },
     "output_type": "display_data"
    }
   ],
   "source": [
    "# Plot Bar Chart for count of genres\n",
    "plt.figure(figsize=(22,3))\n",
    "plt.bar(genres_dict.keys(),genres_dict.values(),color='b')\n",
    "plt.xticks(rotation=\"vertical\")\n",
    "plt.tight_layout()\n",
    "plt.show()"
   ]
  },
  {
   "cell_type": "markdown",
   "id": "28272513-307e-4657-8e71-384649d99dd0",
   "metadata": {},
   "source": [
    "Drama and Comedy are the two most popular genres in the dataset that means they have the lowest IDF but the highest TF"
   ]
  },
  {
   "cell_type": "code",
   "execution_count": 19,
   "id": "aebe3880-3c90-4135-8250-67b16b299123",
   "metadata": {},
   "outputs": [],
   "source": [
    "# Define a TFIDFVectorizer Object.\n",
    "from sklearn.feature_extraction.text import TfidfVectorizer\n",
    "# Initialize the model\n",
    "tfidf_genres = TfidfVectorizer(token_pattern = '[a-zA-Z0-9\\-]+')\n",
    "# Fit genres column to model creating a TFIDF matrix\n",
    "tfidf_matrix = tfidf_genres.fit_transform(merge_df['genres'])"
   ]
  },
  {
   "cell_type": "code",
   "execution_count": 20,
   "id": "87b14477-87e0-45c2-9f7b-e6edc22c2afb",
   "metadata": {},
   "outputs": [],
   "source": [
    "# Import KNeighborsClassifier\n",
    "from sklearn.neighbors import KNeighborsClassifier  "
   ]
  },
  {
   "cell_type": "code",
   "execution_count": 21,
   "id": "b8ca322a-97a0-4eff-9342-869d8bfb5c76",
   "metadata": {},
   "outputs": [],
   "source": [
    "# Define function to get genres of model movies based on movie_id\n",
    "def get_genre(movie_id):\n",
    "    # Define k - nearest neighbor with 5 neighbors \n",
    "    # Have x be the tfidvectorizer matrix and y be the genres column\n",
    "    classifier = KNeighborsClassifier(n_neighbors=5)\n",
    "    x= tfidf_matrix\n",
    "    y = merge_df[\"genres\"]\n",
    "    classifier.fit(x, y)\n",
    "    y_pred = classifier.predict(tfidf_matrix[movie_id])\n",
    "    return y_pred"
   ]
  },
  {
   "cell_type": "code",
   "execution_count": 22,
   "id": "f1314706-e610-4222-a7f3-399d5ed1eaf1",
   "metadata": {},
   "outputs": [
    {
     "data": {
      "text/plain": [
       "array(['  Adventure  Action  Fantasy'], dtype=object)"
      ]
     },
     "execution_count": 22,
     "metadata": {},
     "output_type": "execute_result"
    }
   ],
   "source": [
    "# Make sure function works \n",
    "get_genre(1)"
   ]
  },
  {
   "cell_type": "code",
   "execution_count": 23,
   "id": "c00de76d-a785-48ce-9f2f-4161193ca1a1",
   "metadata": {},
   "outputs": [
    {
     "name": "stdout",
     "output_type": "stream",
     "text": [
      "22447\n",
      "1871\n"
     ]
    }
   ],
   "source": [
    "# Evaluate how many times the movies recommended matched the genre of the user inserted movie\n",
    "correct_count = 0\n",
    "wrong_count = 0\n",
    "\n",
    "for i in range(len(merge_df)):\n",
    "    # Go through the dataframe and get recommendations for every single in the dataframe\n",
    "    recommended_movies = get_similar_movies2(merge_df[\"title\"][i])\n",
    "    predicted_genres1 = get_genre(recommended_movies)\n",
    "    # Remeber the get_similar_movies2 returns 2 movies not 1 so we need to loop each movie\n",
    "    for pred_genre in predicted_genres1:\n",
    "        # Spilt the genres of each movie into a list not a string\n",
    "        genre_each = pred_genre.split(\" \")\n",
    "        for genre in genre_each:\n",
    "            #Skip the empty ones\n",
    "            if genre != \"\":\n",
    "                if genre in merge_df[\"genres\"][i]:\n",
    "                    correct_count = correct_count +1\n",
    "                else:\n",
    "                    wrong_count = wrong_count +1\n",
    "print(correct_count)\n",
    "print(wrong_count)"
   ]
  },
  {
   "cell_type": "code",
   "execution_count": null,
   "id": "583f3d89-ce5f-4235-b97d-7b502c270a12",
   "metadata": {},
   "outputs": [],
   "source": []
  }
 ],
 "metadata": {
  "kernelspec": {
   "display_name": "Python 3",
   "language": "python",
   "name": "python3"
  },
  "language_info": {
   "codemirror_mode": {
    "name": "ipython",
    "version": 3
   },
   "file_extension": ".py",
   "mimetype": "text/x-python",
   "name": "python",
   "nbconvert_exporter": "python",
   "pygments_lexer": "ipython3",
   "version": "3.8.8"
  }
 },
 "nbformat": 4,
 "nbformat_minor": 5
}
