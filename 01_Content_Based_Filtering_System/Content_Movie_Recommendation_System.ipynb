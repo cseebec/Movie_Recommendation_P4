{
 "cells": [
  {
   "cell_type": "code",
   "execution_count": 1,
   "id": "e04da82a-53d2-4927-9c47-a58cca2d46b9",
   "metadata": {},
   "outputs": [],
   "source": [
    "# Import Dependencies\n",
    "import pandas as pd\n",
    "import numpy as np\n",
    "from sklearn.feature_extraction.text import CountVectorizer\n",
    "from sklearn.metrics.pairwise import cosine_similarity"
   ]
  },
  {
   "cell_type": "code",
   "execution_count": 2,
   "id": "c1da7859-89ca-4d08-92c3-4a5deb0214c5",
   "metadata": {},
   "outputs": [
    {
     "data": {
      "text/html": [
       "<div>\n",
       "<style scoped>\n",
       "    .dataframe tbody tr th:only-of-type {\n",
       "        vertical-align: middle;\n",
       "    }\n",
       "\n",
       "    .dataframe tbody tr th {\n",
       "        vertical-align: top;\n",
       "    }\n",
       "\n",
       "    .dataframe thead th {\n",
       "        text-align: right;\n",
       "    }\n",
       "</style>\n",
       "<table border=\"1\" class=\"dataframe\">\n",
       "  <thead>\n",
       "    <tr style=\"text-align: right;\">\n",
       "      <th></th>\n",
       "      <th>genres</th>\n",
       "      <th>id</th>\n",
       "      <th>keywords</th>\n",
       "      <th>original_language</th>\n",
       "      <th>production_companies</th>\n",
       "      <th>title</th>\n",
       "      <th>cast</th>\n",
       "      <th>index</th>\n",
       "    </tr>\n",
       "  </thead>\n",
       "  <tbody>\n",
       "    <tr>\n",
       "      <th>0</th>\n",
       "      <td>Action  Adventure  Fantasy  Science Fiction</td>\n",
       "      <td>19995</td>\n",
       "      <td>culture clash  future  space war  space colo...</td>\n",
       "      <td>en</td>\n",
       "      <td>Ingenious Film Partners  Twentieth Century Fo...</td>\n",
       "      <td>Avatar</td>\n",
       "      <td>Sam Worthington  Zoe Saldana  Sigourney Weav...</td>\n",
       "      <td>0</td>\n",
       "    </tr>\n",
       "    <tr>\n",
       "      <th>1</th>\n",
       "      <td>Adventure  Fantasy  Action</td>\n",
       "      <td>285</td>\n",
       "      <td>ocean  drug abuse  exotic island  east india...</td>\n",
       "      <td>en</td>\n",
       "      <td>Walt Disney Pictures  Jerry Bruckheimer Films...</td>\n",
       "      <td>Pirates of the Caribbean: At World's End</td>\n",
       "      <td>Johnny Depp  Orlando Bloom  Keira Knightley ...</td>\n",
       "      <td>1</td>\n",
       "    </tr>\n",
       "    <tr>\n",
       "      <th>2</th>\n",
       "      <td>Action  Crime  Drama  Thriller</td>\n",
       "      <td>49026</td>\n",
       "      <td>dc comics  crime fighter  terrorist  secret ...</td>\n",
       "      <td>en</td>\n",
       "      <td>Legendary Pictures  Warner Bros.  DC Entertai...</td>\n",
       "      <td>The Dark Knight Rises</td>\n",
       "      <td>Christian Bale  Michael Caine  Gary Oldman  ...</td>\n",
       "      <td>2</td>\n",
       "    </tr>\n",
       "    <tr>\n",
       "      <th>3</th>\n",
       "      <td>Action  Adventure  Science Fiction</td>\n",
       "      <td>49529</td>\n",
       "      <td>based on novel  mars  medallion  space trave...</td>\n",
       "      <td>en</td>\n",
       "      <td>Walt Disney Pictures</td>\n",
       "      <td>John Carter</td>\n",
       "      <td>Taylor Kitsch  Lynn Collins  Samantha Morton...</td>\n",
       "      <td>3</td>\n",
       "    </tr>\n",
       "    <tr>\n",
       "      <th>4</th>\n",
       "      <td>Fantasy  Action  Adventure</td>\n",
       "      <td>559</td>\n",
       "      <td>dual identity  amnesia  sandstorm  love of o...</td>\n",
       "      <td>en</td>\n",
       "      <td>Columbia Pictures  Laura Ziskin Productions  ...</td>\n",
       "      <td>Spider-Man 3</td>\n",
       "      <td>Tobey Maguire  Kirsten Dunst  James Franco  ...</td>\n",
       "      <td>4</td>\n",
       "    </tr>\n",
       "  </tbody>\n",
       "</table>\n",
       "</div>"
      ],
      "text/plain": [
       "                                          genres     id  \\\n",
       "0    Action  Adventure  Fantasy  Science Fiction  19995   \n",
       "1                     Adventure  Fantasy  Action    285   \n",
       "2                 Action  Crime  Drama  Thriller  49026   \n",
       "3             Action  Adventure  Science Fiction  49529   \n",
       "4                     Fantasy  Action  Adventure    559   \n",
       "\n",
       "                                            keywords original_language  \\\n",
       "0    culture clash  future  space war  space colo...                en   \n",
       "1    ocean  drug abuse  exotic island  east india...                en   \n",
       "2    dc comics  crime fighter  terrorist  secret ...                en   \n",
       "3    based on novel  mars  medallion  space trave...                en   \n",
       "4    dual identity  amnesia  sandstorm  love of o...                en   \n",
       "\n",
       "                                production_companies  \\\n",
       "0   Ingenious Film Partners  Twentieth Century Fo...   \n",
       "1   Walt Disney Pictures  Jerry Bruckheimer Films...   \n",
       "2   Legendary Pictures  Warner Bros.  DC Entertai...   \n",
       "3                               Walt Disney Pictures   \n",
       "4   Columbia Pictures  Laura Ziskin Productions  ...   \n",
       "\n",
       "                                      title  \\\n",
       "0                                    Avatar   \n",
       "1  Pirates of the Caribbean: At World's End   \n",
       "2                     The Dark Knight Rises   \n",
       "3                               John Carter   \n",
       "4                              Spider-Man 3   \n",
       "\n",
       "                                                cast  index  \n",
       "0    Sam Worthington  Zoe Saldana  Sigourney Weav...      0  \n",
       "1    Johnny Depp  Orlando Bloom  Keira Knightley ...      1  \n",
       "2    Christian Bale  Michael Caine  Gary Oldman  ...      2  \n",
       "3    Taylor Kitsch  Lynn Collins  Samantha Morton...      3  \n",
       "4    Tobey Maguire  Kirsten Dunst  James Franco  ...      4  "
      ]
     },
     "execution_count": 2,
     "metadata": {},
     "output_type": "execute_result"
    }
   ],
   "source": [
    "# Read in the cleaned movie dataframe\n",
    "merge_file = '02_Clean_Dataset/movies.csv'\n",
    "merge_df = pd.read_csv(merge_file)\n",
    "merge_df.head()"
   ]
  },
  {
   "cell_type": "code",
   "execution_count": 3,
   "id": "26c45d35-2265-4d38-a5cc-cdbe3215659d",
   "metadata": {},
   "outputs": [
    {
     "data": {
      "text/plain": [
       "genres                  4774\n",
       "id                      4802\n",
       "keywords                4390\n",
       "original_language       4802\n",
       "production_companies    4802\n",
       "title                   4802\n",
       "cast                    4760\n",
       "index                   4802\n",
       "dtype: int64"
      ]
     },
     "execution_count": 3,
     "metadata": {},
     "output_type": "execute_result"
    }
   ],
   "source": [
    "# Check for null values\n",
    "merge_df.count()"
   ]
  },
  {
   "cell_type": "code",
   "execution_count": 4,
   "id": "46b0123b-f6d6-4cdd-928b-19a7eacd5735",
   "metadata": {},
   "outputs": [
    {
     "data": {
      "text/plain": [
       "genres                  4802\n",
       "id                      4802\n",
       "keywords                4802\n",
       "original_language       4802\n",
       "production_companies    4802\n",
       "title                   4802\n",
       "cast                    4802\n",
       "index                   4802\n",
       "dtype: int64"
      ]
     },
     "execution_count": 4,
     "metadata": {},
     "output_type": "execute_result"
    }
   ],
   "source": [
    "# There were no null values in the dataframe in the last python code, but for some reason writing the dataframe . . . \n",
    "# to a csv and then reading it back in generated some null values in the genres and keywords columns.\n",
    "# These null values have to be converted to strings.\n",
    "merge_df['genres'] = merge_df['genres'].fillna('Blank')\n",
    "merge_df['keywords'] = merge_df['keywords'].fillna('Blank')\n",
    "merge_df['cast'] = merge_df['cast'].fillna('Blank')\n",
    "merge_df.count()"
   ]
  },
  {
   "cell_type": "code",
   "execution_count": 5,
   "id": "377fe3c8-20f0-45e6-8a10-4e36324969ac",
   "metadata": {},
   "outputs": [],
   "source": [
    "# Additionally for some reason some cells are type float not string so these have to be converted to string\n",
    "merge_df['genres'] = merge_df['genres'].apply(str)"
   ]
  },
  {
   "cell_type": "markdown",
   "id": "ad7f7196-8c00-45c8-84cf-c79f73995b84",
   "metadata": {},
   "source": [
    "## Calculate the Cosine Matrix for each column"
   ]
  },
  {
   "cell_type": "code",
   "execution_count": 6,
   "id": "e7d9e333-4081-4907-a0fa-989b139fadf8",
   "metadata": {},
   "outputs": [],
   "source": [
    "cv = CountVectorizer()\n",
    "# Calculate the count matrix for genres\n",
    "count_matrix = cv.fit_transform(merge_df[\"genres\"])\n",
    "# Calculate cosine similarity matrix based on count matrix results\n",
    "genre_cos_sim = cosine_similarity(count_matrix)"
   ]
  },
  {
   "cell_type": "code",
   "execution_count": 7,
   "id": "06ca2639-396a-4fdd-960d-15d90148c371",
   "metadata": {},
   "outputs": [],
   "source": [
    "# Find similarity between movies based on keywords\n",
    "cv1 = CountVectorizer()\n",
    "count_matrix1 = cv1.fit_transform(merge_df[\"keywords\"])\n",
    "keywords_cos_sim = cosine_similarity(count_matrix1)"
   ]
  },
  {
   "cell_type": "code",
   "execution_count": 8,
   "id": "6868d435-d671-48de-b10e-50672a0e0e10",
   "metadata": {},
   "outputs": [],
   "source": [
    "# Find similarity between movies based on cast\n",
    "cv2 = CountVectorizer()\n",
    "count_matrix2 = cv2.fit_transform(merge_df[\"cast\"])\n",
    "cast_cos_sim = cosine_similarity(count_matrix2)"
   ]
  },
  {
   "cell_type": "code",
   "execution_count": 9,
   "id": "92c92aa9-f109-493e-9a35-3ec6f10a9cf2",
   "metadata": {},
   "outputs": [],
   "source": [
    "# Find similarity between movies based on production companies\n",
    "cv3 = CountVectorizer()\n",
    "count_matrix3 = cv3.fit_transform(merge_df[\"production_companies\"])\n",
    "prod_cos_sim = cosine_similarity(count_matrix3)"
   ]
  },
  {
   "cell_type": "code",
   "execution_count": 10,
   "id": "767d7b96-8c65-4909-918d-815bcac4cde4",
   "metadata": {},
   "outputs": [],
   "source": [
    "# Add weights to each column's cosine similarity matrix so that certain columns affect . . .\n",
    "# the recommended movies more than other columns \n",
    "# I want keywords to effect the outcome the most and prod cos to effect it the least\n",
    "average_cosine = (keywords_cos_sim*4) + (genre_cos_sim*3) + (cast_cos_sim*2) + prod_cos_sim*1.5"
   ]
  },
  {
   "cell_type": "code",
   "execution_count": 11,
   "id": "51ef2354-219e-47a2-bc41-2abc490ef56b",
   "metadata": {},
   "outputs": [],
   "source": [
    "# Define function that returns the index when the movie title is entered as an argument\n",
    "def get_index(title):\n",
    "    return merge_df[merge_df[\"title\"] == title][\"index\"].values[0]\n",
    "# Define another function that returns the movie title when index is entered an argument\n",
    "def get_title(index):\n",
    "    return merge_df[merge_df[\"index\"] == index][\"title\"].values[0]"
   ]
  },
  {
   "cell_type": "code",
   "execution_count": 12,
   "id": "9ac71591-9ae6-46bf-a6cd-17ce442b0b82",
   "metadata": {},
   "outputs": [],
   "source": [
    "def get_similar_movies(user_movie):\n",
    "    try:\n",
    "        similar_index = get_index(user_movie)\n",
    "        similar_movies = list(enumerate(average_cosine[similar_index]))\n",
    "        #Sort the list in descending order that the most similar movies come up on top\n",
    "        similar_movies_sorted = sorted(similar_movies,key=lambda x:x[1],reverse=True)[1:]\n",
    "        y=0\n",
    "        # Display the most similar movies\n",
    "        for index in similar_movies_sorted:\n",
    "            print(get_title(index[0]))\n",
    "            y = y+1\n",
    "            if y==5:\n",
    "                break\n",
    "    except:\n",
    "        print(\"The movie you are looking for is not in the dataframe. Try another movie\")\n"
   ]
  },
  {
   "cell_type": "code",
   "execution_count": 20,
   "id": "85de90fe-d636-4747-bd06-16ccc808b8f8",
   "metadata": {},
   "outputs": [
    {
     "name": "stdout",
     "output_type": "stream",
     "text": [
      "The Incredible Burt Wonderstone\n",
      "Grudge Match\n",
      "The Hangover\n",
      "The Full Monty\n",
      "Dirty Grandpa\n"
     ]
    }
   ],
   "source": [
    "# Find movies similar to what the user likes\n",
    "get_similar_movies(\"Last Vegas\")"
   ]
  },
  {
   "cell_type": "code",
   "execution_count": null,
   "id": "daa2678c-a428-4ee6-b875-e6373e850bf1",
   "metadata": {},
   "outputs": [],
   "source": []
  }
 ],
 "metadata": {
  "kernelspec": {
   "display_name": "Python 3",
   "language": "python",
   "name": "python3"
  },
  "language_info": {
   "codemirror_mode": {
    "name": "ipython",
    "version": 3
   },
   "file_extension": ".py",
   "mimetype": "text/x-python",
   "name": "python",
   "nbconvert_exporter": "python",
   "pygments_lexer": "ipython3",
   "version": "3.8.8"
  }
 },
 "nbformat": 4,
 "nbformat_minor": 5
}
